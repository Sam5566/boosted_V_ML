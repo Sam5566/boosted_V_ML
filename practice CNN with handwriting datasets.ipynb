{
 "cells": [
  {
   "cell_type": "code",
   "execution_count": 25,
   "id": "9aff8c60",
   "metadata": {},
   "outputs": [],
   "source": [
    "import numpy as np\n",
    "import pandas as pd\n",
    "import tensorflow.keras as tk\n",
    "import tensorflow.keras.utils as np_utils\n",
    "import matplotlib.pyplot as plt\n",
    "import xgboost as xgb\n",
    "from sklearn.model_selection import train_test_split\n",
    "\n",
    "from keras.models import Sequential\n",
    "from keras.layers import Dense, Dropout, Flatten, Conv2D, MaxPooling2D"
   ]
  },
  {
   "cell_type": "code",
   "execution_count": 14,
   "id": "d5fd0083",
   "metadata": {},
   "outputs": [],
   "source": [
    "def plot_image(image):\n",
    "    fig = plt.gcf()\n",
    "    fig.set_size_inches(2, 2)\n",
    "    plt.imshow(image, cmap='binary')\n",
    "    plt.show()\n",
    "    \n",
    "def show_train_history(train_history, train, validation):\n",
    "    plt.plot(train_history.history[train])\n",
    "    plt.plot(train_history.history[validation])\n",
    "    plt.title('Train History')\n",
    "    plt.ylabel('train')\n",
    "    plt.xlabel('Epoch')\n",
    "    plt.legend(['train', 'validation'], loc='center right')\n",
    "    plt.show()\n",
    "    \n",
    "def plot_images_labels_prediction(images,labels,prediction,idx,num=10):\n",
    "    fig = plt.gcf()\n",
    "    fig.set_size_inches(12, 14)\n",
    "    if num>25: num=25 \n",
    "    for i in range(0, num):\n",
    "        ax=plt.subplot(5,5, 1+i)\n",
    "        ax.imshow(images[idx], cmap='binary')\n",
    "\n",
    "        ax.set_title(\"label=\" +str(labels[idx])+\n",
    "                     \",predict=\"+str(prediction[idx])\n",
    "                     ,fontsize=10) \n",
    "        \n",
    "        ax.set_xticks([]);ax.set_yticks([])        \n",
    "        idx+=1 \n",
    "    plt.show()"
   ]
  },
  {
   "cell_type": "code",
   "execution_count": 4,
   "id": "b5257c0c",
   "metadata": {},
   "outputs": [
    {
     "name": "stdout",
     "output_type": "stream",
     "text": [
      "(60000, 28, 28)\n"
     ]
    },
    {
     "data": {
      "image/png": "[encoded data removed]",
      "text/plain": [
       "<Figure size 144x144 with 1 Axes>"
      ]
     },
     "metadata": {
      "needs_background": "light"
     },
     "output_type": "display_data"
    }
   ],
   "source": [
    "(xtrain, ytrain), (xtest, ytest) = tk.datasets.mnist.load_data()\n",
    "print (xtrain.shape)\n",
    "plot_image(xtrain[0])"
   ]
  },
  {
   "cell_type": "markdown",
   "id": "29686444",
   "metadata": {},
   "source": [
    "# data preprocessing"
   ]
  },
  {
   "cell_type": "code",
   "execution_count": 5,
   "id": "8de82fcc",
   "metadata": {},
   "outputs": [],
   "source": [
    "x_Train=xtrain.reshape(xtrain.shape[0],xtrain.shape[1],xtrain.shape[2], 1).astype('float32')\n",
    "x_Test=xtest.reshape(xtest.shape[0],xtest.shape[1],xtest.shape[2], 1).astype('float32')\n",
    "x_Train_normalize=x_Train/255\n",
    "x_Test_normalize=x_Test/255\n",
    "y_TrainOneHot=np_utils.to_categorical(ytrain)\n",
    "y_TestOneHot=np_utils.to_categorical(ytest)"
   ]
  },
  {
   "cell_type": "code",
   "execution_count": 6,
   "id": "d4ed080a",
   "metadata": {},
   "outputs": [
    {
     "name": "stdout",
     "output_type": "stream",
     "text": [
      "Model: \"sequential\"\n",
      "_________________________________________________________________\n",
      "Layer (type)                 Output Shape              Param #   \n",
      "=================================================================\n",
      "conv2d (Conv2D)              (None, 28, 28, 16)        416       \n",
      "_________________________________________________________________\n",
      "max_pooling2d (MaxPooling2D) (None, 14, 14, 16)        0         \n",
      "_________________________________________________________________\n",
      "conv2d_1 (Conv2D)            (None, 14, 14, 36)        14436     \n",
      "_________________________________________________________________\n",
      "max_pooling2d_1 (MaxPooling2 (None, 7, 7, 36)          0         \n",
      "_________________________________________________________________\n",
      "dropout (Dropout)            (None, 7, 7, 36)          0         \n",
      "_________________________________________________________________\n",
      "flatten (Flatten)            (None, 1764)              0         \n",
      "_________________________________________________________________\n",
      "dense (Dense)                (None, 128)               225920    \n",
      "_________________________________________________________________\n",
      "dropout_1 (Dropout)          (None, 128)               0         \n",
      "_________________________________________________________________\n",
      "dense_1 (Dense)              (None, 10)                1290      \n",
      "=================================================================\n",
      "Total params: 242,062\n",
      "Trainable params: 242,062\n",
      "Non-trainable params: 0\n",
      "_________________________________________________________________\n",
      "None\n"
     ]
    },
    {
     "name": "stderr",
     "output_type": "stream",
     "text": [
      "2022-07-06 22:38:09.717613: I tensorflow/compiler/jit/xla_cpu_device.cc:41] Not creating XLA devices, tf_xla_enable_xla_devices not set\n",
      "2022-07-06 22:38:09.718010: I tensorflow/core/platform/cpu_feature_guard.cc:142] This TensorFlow binary is optimized with oneAPI Deep Neural Network Library (oneDNN) to use the following CPU instructions in performance-critical operations:  SSE4.1 SSE4.2 AVX AVX2 AVX512F FMA\n",
      "To enable them in other operations, rebuild TensorFlow with the appropriate compiler flags.\n",
      "2022-07-06 22:38:09.720647: I tensorflow/core/common_runtime/process_util.cc:146] Creating new thread pool with default inter op setting: 2. Tune using inter_op_parallelism_threads for best performance.\n"
     ]
    }
   ],
   "source": [
    "# 建立模型\n",
    "model = Sequential()\n",
    "# 建立輸入層和隱藏層\n",
    "model.add(Conv2D(filters=16,kernel_size=(5,5),padding='same',input_shape=(28,28,1), activation='relu'))\n",
    "# 定義隱藏層神經元個數256\n",
    "# 輸入為28*28=784 個float 數字\n",
    "# 使用 normal distribution 常態分布的亂數，初始化 weight權重 bias 偏差\n",
    "# 定義激活函數為 relu\n",
    "\n",
    "model.add(MaxPooling2D(pool_size=(2,2)))\n",
    "model.add(Conv2D(filters=36,kernel_size=(5,5),padding='same', activation='relu'))\n",
    "model.add(MaxPooling2D(pool_size=(2,2)))\n",
    "model.add(Dropout(0.25))\n",
    "model.add(Flatten())\n",
    "model.add(Dense(128, activation='relu'))\n",
    "model.add(Dropout(0.5))\n",
    "\n",
    "# 建立輸出層\n",
    "model.add(Dense(10,activation='softmax'))\n",
    "# 定義輸出層為10個 (數字0~9)\n",
    "# 也是使用常態分佈初始化\n",
    "# 定義激活函數是 softmax\n",
    "# 這裡建立的Dense 層，不用設定 input dim ，因為keras 會自動照上一層的256設定\n",
    "\n",
    "print(model.summary())"
   ]
  },
  {
   "cell_type": "code",
   "execution_count": 7,
   "id": "1522ee7e",
   "metadata": {},
   "outputs": [
    {
     "name": "stderr",
     "output_type": "stream",
     "text": [
      "2022-07-06 22:38:09.972612: I tensorflow/compiler/mlir/mlir_graph_optimization_pass.cc:116] None of the MLIR optimization passes are enabled (registered 2)\n",
      "2022-07-06 22:38:09.993820: I tensorflow/core/platform/profile_utils/cpu_utils.cc:112] CPU Frequency: 3200000000 Hz\n"
     ]
    },
    {
     "name": "stdout",
     "output_type": "stream",
     "text": [
      "Epoch 1/20\n",
      "160/160 - 13s - loss: 0.4717 - accuracy: 0.8506 - val_loss: 0.0978 - val_accuracy: 0.9697\n",
      "Epoch 2/20\n",
      "160/160 - 13s - loss: 0.1352 - accuracy: 0.9594 - val_loss: 0.0661 - val_accuracy: 0.9804\n",
      "Epoch 3/20\n",
      "160/160 - 12s - loss: 0.0981 - accuracy: 0.9700 - val_loss: 0.0525 - val_accuracy: 0.9837\n",
      "Epoch 4/20\n",
      "160/160 - 12s - loss: 0.0789 - accuracy: 0.9761 - val_loss: 0.0420 - val_accuracy: 0.9887\n",
      "Epoch 5/20\n",
      "160/160 - 12s - loss: 0.0678 - accuracy: 0.9794 - val_loss: 0.0402 - val_accuracy: 0.9885\n",
      "Epoch 6/20\n",
      "160/160 - 12s - loss: 0.0597 - accuracy: 0.9818 - val_loss: 0.0375 - val_accuracy: 0.9900\n",
      "Epoch 7/20\n",
      "160/160 - 11s - loss: 0.0506 - accuracy: 0.9847 - val_loss: 0.0343 - val_accuracy: 0.9912\n",
      "Epoch 8/20\n",
      "160/160 - 12s - loss: 0.0463 - accuracy: 0.9858 - val_loss: 0.0331 - val_accuracy: 0.9911\n",
      "Epoch 9/20\n",
      "160/160 - 11s - loss: 0.0452 - accuracy: 0.9865 - val_loss: 0.0304 - val_accuracy: 0.9921\n",
      "Epoch 10/20\n",
      "160/160 - 13s - loss: 0.0411 - accuracy: 0.9873 - val_loss: 0.0318 - val_accuracy: 0.9917\n",
      "Epoch 11/20\n",
      "160/160 - 12s - loss: 0.0370 - accuracy: 0.9882 - val_loss: 0.0312 - val_accuracy: 0.9915\n",
      "Epoch 12/20\n",
      "160/160 - 12s - loss: 0.0331 - accuracy: 0.9899 - val_loss: 0.0308 - val_accuracy: 0.9917\n",
      "Epoch 13/20\n",
      "160/160 - 11s - loss: 0.0317 - accuracy: 0.9902 - val_loss: 0.0285 - val_accuracy: 0.9918\n",
      "Epoch 14/20\n",
      "160/160 - 16s - loss: 0.0302 - accuracy: 0.9905 - val_loss: 0.0292 - val_accuracy: 0.9916\n",
      "Epoch 15/20\n",
      "160/160 - 17s - loss: 0.0273 - accuracy: 0.9914 - val_loss: 0.0285 - val_accuracy: 0.9933\n",
      "Epoch 16/20\n",
      "160/160 - 13s - loss: 0.0262 - accuracy: 0.9916 - val_loss: 0.0292 - val_accuracy: 0.9923\n",
      "Epoch 17/20\n",
      "160/160 - 12s - loss: 0.0258 - accuracy: 0.9921 - val_loss: 0.0306 - val_accuracy: 0.9912\n",
      "Epoch 18/20\n",
      "160/160 - 16s - loss: 0.0246 - accuracy: 0.9922 - val_loss: 0.0282 - val_accuracy: 0.9924\n",
      "Epoch 19/20\n",
      "160/160 - 18s - loss: 0.0217 - accuracy: 0.9931 - val_loss: 0.0316 - val_accuracy: 0.9914\n",
      "Epoch 20/20\n",
      "160/160 - 12s - loss: 0.0219 - accuracy: 0.9931 - val_loss: 0.0289 - val_accuracy: 0.9924\n"
     ]
    }
   ],
   "source": [
    "model.compile(loss='categorical_crossentropy', optimizer='adam', metrics=['accuracy'])\n",
    "train_history = model.fit(x=x_Train_normalize, y=y_TrainOneHot, validation_split=0.2, epochs=20, batch_size=300, verbose=2)"
   ]
  },
  {
   "cell_type": "code",
   "execution_count": 8,
   "id": "042ee3e6",
   "metadata": {},
   "outputs": [
    {
     "name": "stdout",
     "output_type": "stream",
     "text": [
      "dict_keys(['loss', 'accuracy', 'val_loss', 'val_accuracy'])\n"
     ]
    },
    {
     "data": {
      "image/png": "[encoded data removed]",
      "text/plain": [
       "<Figure size 432x288 with 1 Axes>"
      ]
     },
     "metadata": {
      "needs_background": "light"
     },
     "output_type": "display_data"
    }
   ],
   "source": [
    "print (train_history.history.keys())\n",
    "show_train_history(train_history, 'accuracy', 'val_accuracy')"
   ]
  },
  {
   "cell_type": "code",
   "execution_count": 10,
   "id": "18c7a104",
   "metadata": {},
   "outputs": [
    {
     "data": {
      "image/png": "[encoded data removed]",
      "text/plain": [
       "<Figure size 432x288 with 1 Axes>"
      ]
     },
     "metadata": {
      "needs_background": "light"
     },
     "output_type": "display_data"
    }
   ],
   "source": [
    "show_train_history(train_history, 'loss','val_loss')"
   ]
  },
  {
   "cell_type": "markdown",
   "id": "5b4e16fd",
   "metadata": {},
   "source": [
    "# Score and evaluation"
   ]
  },
  {
   "cell_type": "code",
   "execution_count": 12,
   "id": "287cb902",
   "metadata": {},
   "outputs": [
    {
     "name": "stdout",
     "output_type": "stream",
     "text": [
      "313/313 [==============================] - 10s 30ms/step - loss: 0.0208 - accuracy: 0.9940\n"
     ]
    },
    {
     "data": {
      "text/plain": [
       "0.9940000176429749"
      ]
     },
     "execution_count": 12,
     "metadata": {},
     "output_type": "execute_result"
    }
   ],
   "source": [
    "scores = model.evaluate(x_Test_normalize , y_TestOneHot)\n",
    "scores[1]"
   ]
  },
  {
   "cell_type": "markdown",
   "id": "a7a2e8d6",
   "metadata": {},
   "source": [
    "# Predictions"
   ]
  },
  {
   "cell_type": "code",
   "execution_count": 16,
   "id": "5d887d20",
   "metadata": {},
   "outputs": [
    {
     "name": "stdout",
     "output_type": "stream",
     "text": [
      "[7 2 1 0 4 1 4 9 5 9]\n"
     ]
    },
    {
     "data": {
      "image/png": "[encoded data removed]",
      "text/plain": [
       "<Figure size 864x1008 with 10 Axes>"
      ]
     },
     "metadata": {},
     "output_type": "display_data"
    }
   ],
   "source": [
    "prediction=model.predict_classes(x_Test_normalize)\n",
    "print (prediction[:10])\n",
    "plot_images_labels_prediction(xtest,ytest,prediction,idx=0)"
   ]
  },
  {
   "cell_type": "markdown",
   "id": "dc269b17",
   "metadata": {},
   "source": [
    "# Confusion matrix"
   ]
  },
  {
   "cell_type": "code",
   "execution_count": 22,
   "id": "bb6db4d4",
   "metadata": {},
   "outputs": [
    {
     "name": "stdout",
     "output_type": "stream",
     "text": [
      "predict    0     1     2     3    4    5    6     7    8    9\n",
      "label                                                        \n",
      "0        978     0     0     1    0    0    0     0    1    0\n",
      "1          0  1133     0     0    0    1    0     1    0    0\n",
      "2          1     0  1027     0    0    0    0     2    2    0\n",
      "3          0     0     0  1006    0    3    0     0    1    0\n",
      "4          0     0     0     0  981    0    0     0    0    1\n",
      "5          1     0     0     3    0  887    1     0    0    0\n",
      "6          3     2     0     0    1    1  950     0    1    0\n",
      "7          0     2     5     0    2    0    0  1016    1    2\n",
      "8          1     0     1     1    0    1    1     0  967    2\n",
      "9          2     0     0     0    8    3    0     1    0  995\n",
      "      label  predict\n",
      "1393      5        3\n",
      "2597      5        3\n",
      "5937      5        3\n",
      "Int64Index([1393, 2597, 5937], dtype='int64')\n"
     ]
    },
    {
     "data": {
      "image/png": "[encoded data removed]",
      "text/plain": [
       "<Figure size 864x1008 with 3 Axes>"
      ]
     },
     "metadata": {},
     "output_type": "display_data"
    }
   ],
   "source": [
    "print (pd.crosstab(ytest,prediction,rownames=['label'],colnames=['predict']))\n",
    "df = pd.DataFrame({'label':ytest, 'predict':prediction})\n",
    "print (df[(df.label==5)&(df.predict==3)])\n",
    "print (df[(df.label==5)&(df.predict==3)].index)\n",
    "plot_images_labels_prediction([xtest[i] for i in df[(df.label==5)&(df.predict==3)].index],[ytest[i] for i in df[(df.label==5)&(df.predict==3)].index],prediction,idx=0,num=min(len(df[(df.label==5)&(df.predict==3)]),10))\n"
   ]
  }
 ],
 "metadata": {
  "kernelspec": {
   "display_name": "Python 3 (ipykernel)",
   "language": "python",
   "name": "python3"
  },
  "vscode": {
   "interpreter": {
    "hash": "31f2aee4e71d21fbe5cf8b01ff0e069b9275f58929596ceb00d14d90e3e16cd6"
   }
  }
 },
 "nbformat": 4,
 "nbformat_minor": 5
}
