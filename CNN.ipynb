{
 "cells": [
  {
   "cell_type": "code",
   "execution_count": 1,
   "metadata": {},
   "outputs": [],
   "source": [
    "from __future__ import absolute_import\n",
    "from __future__ import division\n",
    "from __future__ import print_function\n",
    "\n",
    "%reload_ext autoreload\n",
    "%autoreload 2\n",
    "\n",
    "import time\n",
    "import os\n",
    "os.environ['CUDA_VISIBLE_DEVICES']='2'\n",
    "import sys\n",
    "os.chdir('/home/samhuang/ML/')\n",
    "sys.path.insert(0, '/home/samhuang/ML')\n",
    "sys.path.insert(0, '/home/samhuang/ML/sample')\n",
    "from readTFR import *\n",
    "from matplotlib import pyplot as plt\n",
    "import matplotlib as mpl\n",
    "from sklearn.metrics import roc_curve, auc\n",
    "import models\n",
    "import math\n",
    "import numpy as np\n",
    "import tensorflow as tf\n",
    "import json\n",
    "import pandas as pd\n",
    "import random\n",
    "from tqdm import tqdm\n",
    "from train_utils import *\n",
    "mpl.rcParams['figure.facecolor'] = 'white'"
   ]
  },
  {
   "cell_type": "code",
   "execution_count": 6,
   "metadata": {},
   "outputs": [
    {
     "name": "stdout",
     "output_type": "stream",
     "text": [
      "The data set contains images\n",
      "WARNING:tensorflow:AutoGraph could not transform <function parse_image at 0x7f794319fa60> and will run it as-is.\n",
      "Please report this to the TensorFlow team. When filing the bug, set the verbosity to 10 (on Linux, `export AUTOGRAPH_VERBOSITY=10`) and attach the full output.\n",
      "Cause: module 'gast' has no attribute 'Index'\n",
      "To silence this warning, decorate the function with @tf.autograph.experimental.do_not_convert\n",
      "WARNING: AutoGraph could not transform <function parse_image at 0x7f794319fa60> and will run it as-is.\n",
      "Please report this to the TensorFlow team. When filing the bug, set the verbosity to 10 (on Linux, `export AUTOGRAPH_VERBOSITY=10`) and attach the full output.\n",
      "Cause: module 'gast' has no attribute 'Index'\n",
      "To silence this warning, decorate the function with @tf.autograph.experimental.do_not_convert\n",
      "The data set contains images\n"
     ]
    },
    {
     "name": "stderr",
     "output_type": "stream",
     "text": [
      "2022-08-10 23:39:48.464851: I tensorflow/compiler/jit/xla_cpu_device.cc:41] Not creating XLA devices, tf_xla_enable_xla_devices not set\n",
      "2022-08-10 23:39:48.465074: I tensorflow/core/platform/cpu_feature_guard.cc:142] This TensorFlow binary is optimized with oneAPI Deep Neural Network Library (oneDNN) to use the following CPU instructions in performance-critical operations:  SSE4.1 SSE4.2 AVX AVX2 AVX512F FMA\n",
      "To enable them in other operations, rebuild TensorFlow with the appropriate compiler flags.\n",
      "2022-08-10 23:39:48.471168: I tensorflow/core/common_runtime/process_util.cc:146] Creating new thread pool with default inter op setting: 10. Tune using inter_op_parallelism_threads for best performance.\n"
     ]
    }
   ],
   "source": [
    "# Data / training parameters.\n",
    "train_epochs = 500\n",
    "batch_size = 250\n",
    "shuffle_size_tr = 0\n",
    "patience = 10\n",
    "min_delta = 0.\n",
    "learning_rate = 1e-4\n",
    "dim_image = [[75, 75], [[-0.8, 0.8], [-0.8, 0.8]]]\n",
    "save_model_name = 'best_model_CNN_1-test2/'\n",
    "\n",
    "# Input datasets\n",
    "datafile = \"/home/samhuang/ML/sample/samples.tfrecord\"\n",
    "#datafile = \"/home/samhuang/ML/samples.tfrecord\"\n",
    "\n",
    "#dataset, Ndataset = get_dataset(datafile, repeat=False, batch_size=batch_size, dim_image=dim_image+[True], shuffle=shuffle_size_tr)\n",
    "#print (Ndataset)\n",
    "#train_size = int(0.6 * Ndataset/batch_size)\n",
    "#val_size = int(0.2 * Ndataset/batch_size)\n",
    "#test_size = int(0.2 * Ndataset/batch_size)\n",
    "#print (\"Data size:\")\n",
    "#print (\"Train:\", train_size)\n",
    "#print (\"Valid:\", val_size)\n",
    "#print (\"Test :\", test_size)\n",
    "#train_dataset = dataset.take(train_size)\n",
    "#test_dataset = dataset.skip(train_size)\n",
    "#val_dataset = test_dataset.take(val_size)\n",
    "#test_dataset = test_dataset.skip(val_size)\n",
    "\n",
    "# Input datasets\n",
    "data_tr = \"sample/train.tfrecord\"\n",
    "data_vl = \"sample/valid.tfrecord\" \n",
    "\n",
    "dataset_tr, tr_total = get_dataset(data_tr, repeat=False, \n",
    "                                   batch_size=batch_size, \n",
    "                                   dim_image=dim_image+[True], \n",
    "                                   shuffle=shuffle_size_tr)\n",
    "dataset_vl, vl_total = get_dataset(data_vl, repeat=False, \n",
    "                                   batch_size=batch_size, \n",
    "                                   dim_image=dim_image+[True], \n",
    "                                   shuffle=0)"
   ]
  },
  {
   "cell_type": "code",
   "execution_count": 7,
   "metadata": {},
   "outputs": [
    {
     "name": "stderr",
     "output_type": "stream",
     "text": [
      "2022-08-10 23:39:52.480007: I tensorflow/compiler/mlir/mlir_graph_optimization_pass.cc:116] None of the MLIR optimization passes are enabled (registered 2)\n",
      "2022-08-10 23:39:52.503111: I tensorflow/core/platform/profile_utils/cpu_utils.cc:112] CPU Frequency: 2100000000 Hz\n"
     ]
    },
    {
     "name": "stdout",
     "output_type": "stream",
     "text": [
      "Epoch 1/500\n",
      "1629/1629 [==============================] - 757s 463ms/step - loss: 2.5931 - accuracy: 0.7405 - val_loss: 15.1814 - val_accuracy: 0.0322\n",
      "\n",
      "Epoch 00001: val_loss improved from inf to 15.18143, saving model to best_model_CNN_1-test2/\n",
      "Epoch 2/500\n",
      "1629/1629 [==============================] - 742s 456ms/step - loss: 0.7468 - accuracy: 0.7105 - val_loss: 13.0202 - val_accuracy: 0.0322\n",
      "\n",
      "Epoch 00002: val_loss improved from 15.18143 to 13.02016, saving model to best_model_CNN_1-test2/\n",
      "Epoch 3/500\n",
      "1629/1629 [==============================] - 737s 453ms/step - loss: 0.6678 - accuracy: 0.7315 - val_loss: 13.4824 - val_accuracy: 0.0322\n",
      "\n",
      "Epoch 00003: val_loss did not improve from 13.02016\n",
      "Epoch 4/500\n",
      "1629/1629 [==============================] - 741s 455ms/step - loss: 0.7114 - accuracy: 0.6984 - val_loss: 10.7495 - val_accuracy: 0.0322\n",
      "\n",
      "Epoch 00004: val_loss improved from 13.02016 to 10.74950, saving model to best_model_CNN_1-test2/\n",
      "Epoch 5/500\n",
      "1629/1629 [==============================] - 736s 452ms/step - loss: 0.6964 - accuracy: 0.7097 - val_loss: 11.2785 - val_accuracy: 0.0322\n",
      "\n",
      "Epoch 00005: val_loss did not improve from 10.74950\n",
      "Epoch 6/500\n",
      "1629/1629 [==============================] - 740s 454ms/step - loss: 0.6497 - accuracy: 0.7456 - val_loss: 10.2009 - val_accuracy: 0.0322\n",
      "\n",
      "Epoch 00006: val_loss improved from 10.74950 to 10.20092, saving model to best_model_CNN_1-test2/\n",
      "Epoch 7/500\n",
      " 819/1629 [==============>...............] - ETA: 5:37 - loss: 0.8895 - accuracy: 0.6605"
     ]
    }
   ],
   "source": [
    "# Create the model  \n",
    "history=0\n",
    "model = models.CNN1(dim_image=dim_image[0] + [3])\n",
    "model.compile(optimizer=tf.keras.optimizers.Adam(learning_rate), \n",
    "              loss=tf.keras.losses.CategoricalCrossentropy(from_logits=False),\n",
    "              metrics=['accuracy'])\n",
    "\n",
    "early_stopping = tf.keras.callbacks.EarlyStopping(monitor='val_loss', min_delta=min_delta, verbose=1, patience=patience)\n",
    "check_point    = tf.keras.callbacks.ModelCheckpoint(save_model_name, monitor='val_loss', \n",
    "                                                    verbose=1, save_best_only=True)\n",
    "\n",
    "history = model.fit(dataset_tr, validation_data=dataset_vl , epochs=train_epochs, batch_size=batch_size, callbacks=[early_stopping, check_point])"
   ]
  },
  {
   "cell_type": "code",
   "execution_count": 8,
   "metadata": {},
   "outputs": [
    {
     "name": "stderr",
     "output_type": "stream",
     "text": [
      "2022-08-11 10:59:10.202317: W tensorflow/python/util/util.cc:348] Sets are not currently considered sequences, but this may change in the future, so consider avoiding using them.\n"
     ]
    },
    {
     "name": "stdout",
     "output_type": "stream",
     "text": [
      "INFO:tensorflow:Assets written to: best_model_CNN_1-test2/assets\n"
     ]
    }
   ],
   "source": [
    "model.save(save_model_name)"
   ]
  },
  {
   "cell_type": "code",
   "execution_count": 9,
   "metadata": {},
   "outputs": [
    {
     "data": {
      "image/png": "[encoded data removed]",
      "text/plain": [
       "<Figure size 720x1008 with 2 Axes>"
      ]
     },
     "metadata": {
      "needs_background": "light"
     },
     "output_type": "display_data"
    }
   ],
   "source": [
    "%matplotlib inline\n",
    "# Plot results curves.\n",
    "fig = plt.figure(1, figsize=(10, 14))\n",
    "fig.clf()\n",
    "x = range(len(history.history['loss']))\n",
    "# Loss.\n",
    "y_tr = history.history['loss']\n",
    "y_vl = history.history['val_loss']\n",
    "ax = fig.add_subplot(2, 1, 1)\n",
    "ax.plot(x, y_tr, \"b\", label=\"Training\")\n",
    "ax.plot(x, y_vl, \"b--\", label=\"Validation\")\n",
    "ax.set_title(\"Loss across training\")\n",
    "ax.set_xlabel(\"Training iteration\")\n",
    "ax.set_ylabel(\"Loss (categorical cross-entropy)\")\n",
    "ax.legend()\n",
    "# Accuracy.\n",
    "y_tr = history.history['accuracy']\n",
    "y_vl = history.history['val_accuracy']\n",
    "ax = fig.add_subplot(2, 1, 2)\n",
    "ax.plot(x, y_tr, \"b\", label=\"Training\")\n",
    "ax.plot(x, y_vl, \"b--\", label=\"Test\")\n",
    "ax.set_title(\"Accuracy across training\")\n",
    "ax.set_xlabel(\"Training iteration\")\n",
    "ax.set_ylabel(\"Accuracy\")\n",
    "fig.show()"
   ]
  },
  {
   "cell_type": "code",
   "execution_count": 23,
   "metadata": {},
   "outputs": [
    {
     "name": "stdout",
     "output_type": "stream",
     "text": [
      "The data set contains images\n",
      "127283/127283 [==============================] - 528s 4ms/step - loss: 5.9698 - accuracy: 0.0781\n",
      "Testing Loss = 5.965465, Testing Accuracy = 0.078659\n",
      "The data set contains images\n"
     ]
    }
   ],
   "source": [
    "save_model_name = 'best_model_CNN_1/best'\n",
    "loaded_model = tf.keras.models.load_model(save_model_name)\n",
    "\n",
    "data_te = \"sample/test.tfrecord\"\n",
    "dataset_te, te_total  = get_dataset(data_te, repeat=False, \n",
    "                                    batch_size=1, \n",
    "                                    dim_image=dim_image+[True], \n",
    "                                    shuffle=0)\n",
    "\n",
    "results = loaded_model.evaluate(dataset_te)\n",
    "print(\"Testing Loss = {0:f}, Testing Accuracy = {1:f}\".format(results[0], results[1]))\n",
    "\n",
    "labels = [x[1][0].tolist() for x in dataset_te.as_numpy_iterator()]\n",
    "\n",
    "dataset_te, te_total  = get_dataset(data_te, repeat=False, \n",
    "                                    batch_size=1, \n",
    "                                    dim_image=dim_image+[False], \n",
    "                                    shuffle=0)\n",
    "\n",
    "predictions = loaded_model.predict(dataset_te).tolist()\n",
    "\n",
    "data = {'test_scores': predictions, 'test_labels': labels}"
   ]
  },
  {
   "cell_type": "code",
   "execution_count": 22,
   "metadata": {},
   "outputs": [
    {
     "name": "stdout",
     "output_type": "stream",
     "text": [
      "tf.Tensor(\n",
      "[[[[0. 0.]\n",
      "   [0. 0.]\n",
      "   [0. 0.]\n",
      "   ...\n",
      "   [0. 0.]\n",
      "   [0. 0.]\n",
      "   [0. 0.]]\n",
      "\n",
      "  [[0. 0.]\n",
      "   [0. 0.]\n",
      "   [0. 0.]\n",
      "   ...\n",
      "   [0. 0.]\n",
      "   [0. 0.]\n",
      "   [0. 0.]]\n",
      "\n",
      "  [[0. 0.]\n",
      "   [0. 0.]\n",
      "   [0. 0.]\n",
      "   ...\n",
      "   [0. 0.]\n",
      "   [0. 0.]\n",
      "   [0. 0.]]\n",
      "\n",
      "  ...\n",
      "\n",
      "  [[0. 0.]\n",
      "   [0. 0.]\n",
      "   [0. 0.]\n",
      "   ...\n",
      "   [0. 0.]\n",
      "   [0. 0.]\n",
      "   [0. 0.]]\n",
      "\n",
      "  [[0. 0.]\n",
      "   [0. 0.]\n",
      "   [0. 0.]\n",
      "   ...\n",
      "   [0. 0.]\n",
      "   [0. 0.]\n",
      "   [0. 0.]]\n",
      "\n",
      "  [[0. 0.]\n",
      "   [0. 0.]\n",
      "   [0. 0.]\n",
      "   ...\n",
      "   [0. 0.]\n",
      "   [0. 0.]\n",
      "   [0. 0.]]]], shape=(1, 75, 75, 2), dtype=float32)\n"
     ]
    },
    {
     "ename": "ValueError",
     "evalue": "not enough values to unpack (expected 2, got 1)",
     "output_type": "error",
     "traceback": [
      "\u001b[0;31m---------------------------------------------------------------------------\u001b[0m",
      "\u001b[0;31mValueError\u001b[0m                                Traceback (most recent call last)",
      "\u001b[1;32m/home/samhuang/ML/CNN.ipynb Cell 7\u001b[0m in \u001b[0;36m<cell line: 3>\u001b[0;34m()\u001b[0m\n\u001b[1;32m      <a href='vscode-notebook-cell://ssh-remote%2Bntu2/home/samhuang/ML/CNN.ipynb#W6sdnNjb2RlLXJlbW90ZQ%3D%3D?line=0'>1</a>\u001b[0m \u001b[39m#predictions = loaded_model.predict(dataset_te)\u001b[39;00m\n\u001b[1;32m      <a href='vscode-notebook-cell://ssh-remote%2Bntu2/home/samhuang/ML/CNN.ipynb#W6sdnNjb2RlLXJlbW90ZQ%3D%3D?line=1'>2</a>\u001b[0m \u001b[39mprint\u001b[39m ([x \u001b[39mfor\u001b[39;00m x \u001b[39min\u001b[39;00m dataset_te][\u001b[39m0\u001b[39m])\n\u001b[0;32m----> <a href='vscode-notebook-cell://ssh-remote%2Bntu2/home/samhuang/ML/CNN.ipynb#W6sdnNjb2RlLXJlbW90ZQ%3D%3D?line=2'>3</a>\u001b[0m labels \u001b[39m=\u001b[39m np\u001b[39m.\u001b[39mconcatenate([y \u001b[39mfor\u001b[39;00m x, y \u001b[39min\u001b[39;00m dataset_te], axis\u001b[39m=\u001b[39m\u001b[39m0\u001b[39m)\n\u001b[1;32m      <a href='vscode-notebook-cell://ssh-remote%2Bntu2/home/samhuang/ML/CNN.ipynb#W6sdnNjb2RlLXJlbW90ZQ%3D%3D?line=3'>4</a>\u001b[0m n_class \u001b[39m=\u001b[39m labels\u001b[39m.\u001b[39mshape[\u001b[39m1\u001b[39m]\n\u001b[1;32m      <a href='vscode-notebook-cell://ssh-remote%2Bntu2/home/samhuang/ML/CNN.ipynb#W6sdnNjb2RlLXJlbW90ZQ%3D%3D?line=5'>6</a>\u001b[0m fpr, tpr, roc_auc \u001b[39m=\u001b[39m \u001b[39mdict\u001b[39m(), \u001b[39mdict\u001b[39m(), \u001b[39mdict\u001b[39m()\n",
      "\u001b[1;32m/home/samhuang/ML/CNN.ipynb Cell 7\u001b[0m in \u001b[0;36m<listcomp>\u001b[0;34m(.0)\u001b[0m\n\u001b[1;32m      <a href='vscode-notebook-cell://ssh-remote%2Bntu2/home/samhuang/ML/CNN.ipynb#W6sdnNjb2RlLXJlbW90ZQ%3D%3D?line=0'>1</a>\u001b[0m \u001b[39m#predictions = loaded_model.predict(dataset_te)\u001b[39;00m\n\u001b[1;32m      <a href='vscode-notebook-cell://ssh-remote%2Bntu2/home/samhuang/ML/CNN.ipynb#W6sdnNjb2RlLXJlbW90ZQ%3D%3D?line=1'>2</a>\u001b[0m \u001b[39mprint\u001b[39m ([x \u001b[39mfor\u001b[39;00m x \u001b[39min\u001b[39;00m dataset_te][\u001b[39m0\u001b[39m])\n\u001b[0;32m----> <a href='vscode-notebook-cell://ssh-remote%2Bntu2/home/samhuang/ML/CNN.ipynb#W6sdnNjb2RlLXJlbW90ZQ%3D%3D?line=2'>3</a>\u001b[0m labels \u001b[39m=\u001b[39m np\u001b[39m.\u001b[39mconcatenate([y \u001b[39mfor\u001b[39;00m x, y \u001b[39min\u001b[39;00m dataset_te], axis\u001b[39m=\u001b[39m\u001b[39m0\u001b[39m)\n\u001b[1;32m      <a href='vscode-notebook-cell://ssh-remote%2Bntu2/home/samhuang/ML/CNN.ipynb#W6sdnNjb2RlLXJlbW90ZQ%3D%3D?line=3'>4</a>\u001b[0m n_class \u001b[39m=\u001b[39m labels\u001b[39m.\u001b[39mshape[\u001b[39m1\u001b[39m]\n\u001b[1;32m      <a href='vscode-notebook-cell://ssh-remote%2Bntu2/home/samhuang/ML/CNN.ipynb#W6sdnNjb2RlLXJlbW90ZQ%3D%3D?line=5'>6</a>\u001b[0m fpr, tpr, roc_auc \u001b[39m=\u001b[39m \u001b[39mdict\u001b[39m(), \u001b[39mdict\u001b[39m(), \u001b[39mdict\u001b[39m()\n",
      "\u001b[0;31mValueError\u001b[0m: not enough values to unpack (expected 2, got 1)"
     ]
    }
   ],
   "source": [
    "#predictions = loaded_model.predict(dataset_te)\n",
    "#print ([x for x in dataset_te][0])\n",
    "#labels = np.concatenate([y for x, y in dataset_te], axis=0)\n",
    "n_class = labels.shape[1]\n",
    " \n",
    "fpr, tpr, roc_auc = dict(), dict(), dict()\n",
    "for i in range(n_class):\n",
    "    fpr[i], tpr[i], _ = roc_curve(labels[:, i], predictions[:, i])\n",
    "    roc_auc[i] = auc(fpr[i], tpr[i])\n",
    " \n",
    "plt.figure(figsize=(8,6))\n",
    "signal=[r'$W^+$',r'$W^-$',r'$Z$']\n",
    "for i in range(n_class):\n",
    "    plt.plot(fpr[i], tpr[i], label='{0} (auc = {1:0.2f})'.format(signal[i], roc_auc[i]))\n",
    "            \n",
    "plt.plot([0, 1], [0, 1], color=\"navy\", linestyle=\"--\")\n",
    "plt.ylabel('True Positive Rate')\n",
    "plt.xlabel('False Positive Rate')\n",
    "plt.title('ROC curve')\n",
    "plt.legend(loc='lower right', fontsize=15)\n",
    "plt.show()"
   ]
  },
  {
   "cell_type": "code",
   "execution_count": 24,
   "metadata": {},
   "outputs": [
    {
     "name": "stderr",
     "output_type": "stream",
     "text": [
      "100%|█████████████████████████████████████████████████████████████████████████████████████████████████████████████████████████████| 127283/127283 [00:00<00:00, 195473.52it/s]\n",
      "/home/samhuang/.conda/envs/sam/lib/python3.8/site-packages/sklearn/metrics/_ranking.py:1007: UndefinedMetricWarning: No negative samples in y_true, false positive value should be meaningless\n",
      "  warnings.warn(\n",
      "/home/samhuang/.conda/envs/sam/lib/python3.8/site-packages/sklearn/metrics/_ranking.py:96: RuntimeWarning: invalid value encountered in less\n",
      "  if np.any(dx < 0):\n",
      "/home/samhuang/.conda/envs/sam/lib/python3.8/site-packages/sklearn/metrics/_ranking.py:1007: UndefinedMetricWarning: No negative samples in y_true, false positive value should be meaningless\n",
      "  warnings.warn(\n",
      "/home/samhuang/.conda/envs/sam/lib/python3.8/site-packages/sklearn/metrics/_ranking.py:96: RuntimeWarning: invalid value encountered in less\n",
      "  if np.any(dx < 0):\n"
     ]
    },
    {
     "ename": "IndexError",
     "evalue": "too many indices for array",
     "output_type": "error",
     "traceback": [
      "\u001b[0;31m---------------------------------------------------------------------------\u001b[0m",
      "\u001b[0;31mIndexError\u001b[0m                                Traceback (most recent call last)",
      "\u001b[1;32m/home/samhuang/ML/CNN.ipynb Cell 8\u001b[0m in \u001b[0;36m<cell line: 41>\u001b[0;34m()\u001b[0m\n\u001b[1;32m     <a href='vscode-notebook-cell://ssh-remote%2Bntu2/home/samhuang/ML/CNN.ipynb#X11sdnNjb2RlLXJlbW90ZQ%3D%3D?line=44'>45</a>\u001b[0m     fpr[\u001b[39m'\u001b[39m\u001b[39mEW_nonLL\u001b[39m\u001b[39m'\u001b[39m], tpr[\u001b[39m'\u001b[39m\u001b[39mEW_nonLL\u001b[39m\u001b[39m'\u001b[39m], _ \u001b[39m=\u001b[39m roc_curve(labels_EW_nonLL[:, i], scores_EW_nonLL[:, i])\n\u001b[1;32m     <a href='vscode-notebook-cell://ssh-remote%2Bntu2/home/samhuang/ML/CNN.ipynb#X11sdnNjb2RlLXJlbW90ZQ%3D%3D?line=45'>46</a>\u001b[0m     roc_auc[\u001b[39m'\u001b[39m\u001b[39mEW_nonLL\u001b[39m\u001b[39m'\u001b[39m] \u001b[39m=\u001b[39m auc(fpr[\u001b[39m'\u001b[39m\u001b[39mEW_nonLL\u001b[39m\u001b[39m'\u001b[39m], tpr[\u001b[39m'\u001b[39m\u001b[39mEW_nonLL\u001b[39m\u001b[39m'\u001b[39m])\n\u001b[0;32m---> <a href='vscode-notebook-cell://ssh-remote%2Bntu2/home/samhuang/ML/CNN.ipynb#X11sdnNjb2RlLXJlbW90ZQ%3D%3D?line=47'>48</a>\u001b[0m     fpr[\u001b[39m'\u001b[39m\u001b[39mQCD\u001b[39m\u001b[39m'\u001b[39m], tpr[\u001b[39m'\u001b[39m\u001b[39mQCD\u001b[39m\u001b[39m'\u001b[39m], _ \u001b[39m=\u001b[39m roc_curve(labels_QCD[:, i], scores_QCD[:, i])\n\u001b[1;32m     <a href='vscode-notebook-cell://ssh-remote%2Bntu2/home/samhuang/ML/CNN.ipynb#X11sdnNjb2RlLXJlbW90ZQ%3D%3D?line=48'>49</a>\u001b[0m     roc_auc[\u001b[39m'\u001b[39m\u001b[39mQCD\u001b[39m\u001b[39m'\u001b[39m] \u001b[39m=\u001b[39m auc(fpr[\u001b[39m'\u001b[39m\u001b[39mQCD\u001b[39m\u001b[39m'\u001b[39m], tpr[\u001b[39m'\u001b[39m\u001b[39mQCD\u001b[39m\u001b[39m'\u001b[39m])\n\u001b[1;32m     <a href='vscode-notebook-cell://ssh-remote%2Bntu2/home/samhuang/ML/CNN.ipynb#X11sdnNjb2RlLXJlbW90ZQ%3D%3D?line=50'>51</a>\u001b[0m plt\u001b[39m.\u001b[39mfigure(\u001b[39m1\u001b[39m, figsize\u001b[39m=\u001b[39m(\u001b[39m8\u001b[39m, \u001b[39m6\u001b[39m))\n",
      "\u001b[0;31mIndexError\u001b[0m: too many indices for array"
     ]
    }
   ],
   "source": [
    "labels = data['test_labels']\n",
    "scores = data['test_scores']\n",
    "\n",
    "labels_EW_LL, scores_EW_LL = [], []\n",
    "labels_EW_nonLL, scores_EW_nonLL  = [], []\n",
    "labels_QCD, scores_QCD  = [], []\n",
    "\n",
    "for idx in tqdm(range(len(labels))):\n",
    "    if labels[idx][0] > 0.5 or labels[idx][1] > 0.5:\n",
    "        labels_EW_LL.append([labels[idx][0], labels[idx][1]])\n",
    "        total_EW_LL = scores[idx][0] + scores[idx][1]\n",
    "        if int(scores[idx][2]) == 1:\n",
    "            scores_EW_LL.append([0.5, 0.5])\n",
    "        else:\n",
    "            scores_EW_LL.append([scores[idx][0]/total_EW_LL, scores[idx][1]/total_EW_LL])\n",
    "    if labels[idx][0] > 0.5 or labels[idx][2] > 0.5:\n",
    "        labels_EW_nonLL.append([labels[idx][0], labels[idx][2]])\n",
    "        total_EW_nonLL = scores[idx][0] + scores[idx][2]\n",
    "        if int(scores[idx][1]) == 1:\n",
    "            scores_EW_nonLL.append([0.5, 0.5])\n",
    "        else:\n",
    "            scores_EW_nonLL.append([scores[idx][0]/total_EW_nonLL, scores[idx][2]/total_EW_nonLL])\n",
    "    if labels[idx][1] > 0.5 or labels[idx][2] > 0.5:\n",
    "        labels_QCD.append([labels[idx][1], labels[idx][2]])\n",
    "        total_QCD = scores[idx][1] + scores[idx][2]\n",
    "        if int(scores[idx][0]) == 1:\n",
    "            scores_QCD.append([0.5, 0.5])\n",
    "        else:\n",
    "            scores_QCD.append([scores[idx][1]/total_QCD, scores[idx][2]/total_QCD])\n",
    "\n",
    "labels_EW_LL, scores_EW_LL = np.array(labels_EW_LL), np.array(scores_EW_LL)\n",
    "labels_EW_nonLL, scores_EW_nonLL = np.array(labels_EW_nonLL), np.array(scores_EW_nonLL)\n",
    "labels_QCD, scores_QCD = np.array(labels_QCD), np.array(scores_QCD)\n",
    "        \n",
    "from sklearn.metrics import roc_curve, auc\n",
    "\n",
    "fpr = dict()\n",
    "tpr = dict()\n",
    "roc_auc = dict()\n",
    "\n",
    "for i in range(2):\n",
    "    fpr['EW_LL'], tpr['EW_LL'], _ = roc_curve(labels_EW_LL[:, i], scores_EW_LL[:, i])\n",
    "    roc_auc['EW_LL'] = auc(fpr['EW_LL'], tpr['EW_LL'])\n",
    "    \n",
    "    fpr['EW_nonLL'], tpr['EW_nonLL'], _ = roc_curve(labels_EW_nonLL[:, i], scores_EW_nonLL[:, i])\n",
    "    roc_auc['EW_nonLL'] = auc(fpr['EW_nonLL'], tpr['EW_nonLL'])\n",
    "    \n",
    "    fpr['QCD'], tpr['QCD'], _ = roc_curve(labels_QCD[:, i], scores_QCD[:, i])\n",
    "    roc_auc['QCD'] = auc(fpr['QCD'], tpr['QCD'])\n",
    "\n",
    "plt.figure(1, figsize=(8, 6))\n",
    "lw = 2\n",
    "plt.plot(\n",
    "    fpr['EW_LL'],\n",
    "    tpr['EW_LL'],\n",
    "    color=\"red\",\n",
    "    lw=lw,\n",
    "    label=r\"ROC curve (area = %0.2f), EW, LL\" % roc_auc['EW_LL'],\n",
    ")\n",
    "plt.plot(\n",
    "    fpr['EW_nonLL'],\n",
    "    tpr['EW_nonLL'],\n",
    "    color=\"green\",\n",
    "    lw=lw,\n",
    "    label=r\"ROC curve (area = %0.2f), EW, non-LL\" % roc_auc['EW_nonLL'],\n",
    ")\n",
    "plt.plot(\n",
    "    fpr['QCD'],\n",
    "    tpr['QCD'],\n",
    "    color=\"blue\",\n",
    "    lw=lw,\n",
    "    label=r\"ROC curve (area = %0.2f), QCD\" % roc_auc['QCD'],\n",
    ")\n",
    "plt.plot([0, 1], [0, 1], color=\"black\", lw=lw, linestyle=\"--\")\n",
    "plt.xlim([0.0, 1.0])\n",
    "plt.ylim([0.0, 1.05])\n",
    "plt.xlabel(\"False Positive Rate\")\n",
    "plt.ylabel(\"True Positive Rate\")\n",
    "plt.title(\"Testing ROC Curve\")\n",
    "plt.legend(loc=\"lower right\")\n",
    "plt.show()"
   ]
  }
 ],
 "metadata": {
  "kernelspec": {
   "display_name": "Python 3.8.13 ('sam': conda)",
   "language": "python",
   "name": "python3"
  },
  "language_info": {
   "name": "python",
   "version": "3.8.13"
  },
  "orig_nbformat": 4,
  "vscode": {
   "interpreter": {
    "hash": "2d969151e79e9ba5ba5c8bcef2117815f1b340bd1445804b97985aeb185c8c2b"
   }
  }
 },
 "nbformat": 4,
 "nbformat_minor": 2
}
